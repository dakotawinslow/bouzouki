{
 "cells": [
  {
   "cell_type": "code",
   "execution_count": 12,
   "id": "890bb36c",
   "metadata": {},
   "outputs": [],
   "source": [
    "from mingus.core import notes, scales, chords, keys, progressions\n",
    "import random\n"
   ]
  },
  {
   "cell_type": "code",
   "execution_count": 13,
   "id": "66ce87d4",
   "metadata": {},
   "outputs": [
    {
     "data": {
      "text/plain": [
       "'Ab'"
      ]
     },
     "execution_count": 13,
     "metadata": {},
     "output_type": "execute_result"
    }
   ],
   "source": [
    "# Choose a key\n",
    "key = random.choice(keys.keys)[0]\n",
    "key"
   ]
  },
  {
   "cell_type": "code",
   "execution_count": 21,
   "id": "ba0996af",
   "metadata": {},
   "outputs": [
    {
     "data": {
      "text/plain": [
       "['I', 'IV', 'II', 'II', 'II', 'IV', 'i', 'i', 'i', 'V', 'V', 'V']"
      ]
     },
     "execution_count": 21,
     "metadata": {},
     "output_type": "execute_result"
    }
   ],
   "source": [
    "# Let's work in a 12-bar blues paradigm\n",
    "num_bars = 12\n",
    "prog = []\n",
    "for i in range(num_bars):\n",
    "    if i == 0:\n",
    "        prog.append(\"I\")\n",
    "        continue\n",
    "    last = prog[-1]\n",
    "    if random.uniform(0, 1) < 0.33:\n",
    "        prog.append(last)\n",
    "        continue\n",
    "    new = random.choice(progressions.numerals)\n",
    "    if random.uniform(0, 1) < 0.25:\n",
    "        new = new.lower()\n",
    "    prog.append(new)\n",
    "prog"
   ]
  },
  {
   "cell_type": "code",
   "execution_count": 22,
   "id": "6be4da61",
   "metadata": {},
   "outputs": [
    {
     "data": {
      "text/plain": [
       "[['Ab', 'C', 'Eb'],\n",
       " ['Db', 'F', 'Ab'],\n",
       " ['Bb', 'Db', 'F'],\n",
       " ['Bb', 'Db', 'F'],\n",
       " ['Bb', 'Db', 'F'],\n",
       " ['Db', 'F', 'Ab'],\n",
       " ['Ab', 'C', 'Eb'],\n",
       " ['Ab', 'C', 'Eb'],\n",
       " ['Ab', 'C', 'Eb'],\n",
       " ['Eb', 'G', 'Bb'],\n",
       " ['Eb', 'G', 'Bb'],\n",
       " ['Eb', 'G', 'Bb']]"
      ]
     },
     "execution_count": 22,
     "metadata": {},
     "output_type": "execute_result"
    }
   ],
   "source": [
    "progressions.to_chords(prog, key)"
   ]
  },
  {
   "cell_type": "code",
   "execution_count": 23,
   "id": "fb28e836",
   "metadata": {},
   "outputs": [
    {
     "name": "stderr",
     "output_type": "stream",
     "text": [
      "c:\\Users\\dakot\\Documents\\Music\\bouzouki\\.venv\\Lib\\site-packages\\mingus\\containers\\note.py:318: SyntaxWarning: invalid escape sequence '\\ '\n",
      "  \"\"\"Enable the comparing operators on Notes (>, <, \\ ==, !=, >= and <=).\n"
     ]
    }
   ],
   "source": [
    "import mingus.midi as midi"
   ]
  },
  {
   "cell_type": "code",
   "execution_count": 24,
   "id": "2e69c099",
   "metadata": {},
   "outputs": [
    {
     "name": "stdout",
     "output_type": "stream",
     "text": [
      "Help on module mingus.midi.sequencer in mingus.midi:\n",
      "\n",
      "NAME\n",
      "    mingus.midi.sequencer - A general purpose sequencer for the objects in mingus.containers.\n",
      "\n",
      "DESCRIPTION\n",
      "    You can use the Sequencer object either by creating a subclass and\n",
      "    implementing some of the events (init, play_event, stop_event, cc_event,\n",
      "    instr_event) or by attaching observer objects via 'attach' and catching the\n",
      "    messages in the notify(msg_type, param_dict) function of your object.\n",
      "\n",
      "    See SequencerObserver for a pre made, easy to extend base class that can be\n",
      "    attached to the Sequencer.\n",
      "\n",
      "CLASSES\n",
      "    builtins.object\n",
      "        Sequencer\n",
      "\n",
      "    class Sequencer(builtins.object)\n",
      "     |  A general purpose sequencer for the objects in mingus.containers.\n",
      "     |\n",
      "     |  You can use the Sequencer object either by creating a subclass and\n",
      "     |  implementing some of the events (init, play_event, stop_event, cc_event,\n",
      "     |  instr_event) or by attaching observer objects via 'attach' and catching\n",
      "     |  the messages in the notify(msg_type, param_dict) function of your object.\n",
      "     |\n",
      "     |  See SequencerObserver for a pre made, easy to extend base class that can\n",
      "     |  be attached to the Sequencer.\n",
      "     |\n",
      "     |  Methods defined here:\n",
      "     |\n",
      "     |  __init__(self)\n",
      "     |      Initialize self.  See help(type(self)) for accurate signature.\n",
      "     |\n",
      "     |  attach(self, listener)\n",
      "     |      Attach an object that should be notified of events.\n",
      "     |\n",
      "     |      The object should have a notify(msg_type, param_dict) function.\n",
      "     |\n",
      "     |  cc_event(self, channel, control, value)\n",
      "     |\n",
      "     |  control_change(self, channel, control, value)\n",
      "     |      Send a control change message.\n",
      "     |\n",
      "     |      See the MIDI specification for more information.\n",
      "     |\n",
      "     |  detach(self, listener)\n",
      "     |      Detach a listening object so that it won't receive any events\n",
      "     |      anymore.\n",
      "     |\n",
      "     |  init(self)\n",
      "     |\n",
      "     |  instr_event(self, channel, instr, bank)\n",
      "     |\n",
      "     |  main_volume(self, channel, value)\n",
      "     |      Set the main volume.\n",
      "     |\n",
      "     |  modulation(self, channel, value)\n",
      "     |      Set the modulation.\n",
      "     |\n",
      "     |  notify_listeners(self, msg_type, params)\n",
      "     |      Send a message to all the observers.\n",
      "     |\n",
      "     |  pan(self, channel, value)\n",
      "     |      Set the panning.\n",
      "     |\n",
      "     |  play_Bar(self, bar, channel=1, bpm=120)\n",
      "     |      Play a Bar object.\n",
      "     |\n",
      "     |      Return a dictionary with the bpm lemma set on success, an empty dict\n",
      "     |      on some kind of failure.\n",
      "     |\n",
      "     |      The tempo can be changed by setting the bpm attribute on a\n",
      "     |      NoteContainer.\n",
      "     |\n",
      "     |  play_Bars(self, bars, channels, bpm=120)\n",
      "     |      Play several bars (a list of Bar objects) at the same time.\n",
      "     |\n",
      "     |      A list of channels should also be provided. The tempo can be changed\n",
      "     |      by providing one or more of the NoteContainers with a bpm argument.\n",
      "     |\n",
      "     |  play_Composition(self, composition, channels=None, bpm=120)\n",
      "     |      Play a Composition object.\n",
      "     |\n",
      "     |  play_Note(self, note, channel=1, velocity=100)\n",
      "     |      Play a Note object on a channel with a velocity[0-127].\n",
      "     |\n",
      "     |      You can either specify the velocity and channel here as arguments or\n",
      "     |      you can set the Note.velocity and Note.channel attributes, which\n",
      "     |      will take presedence over the function arguments.\n",
      "     |\n",
      "     |  play_NoteContainer(self, nc, channel=1, velocity=100)\n",
      "     |      Play the Notes in the NoteContainer nc.\n",
      "     |\n",
      "     |  play_Track(self, track, channel=1, bpm=120)\n",
      "     |      Play a Track object.\n",
      "     |\n",
      "     |  play_Tracks(self, tracks, channels, bpm=120)\n",
      "     |      Play a list of Tracks.\n",
      "     |\n",
      "     |      If an instance of MidiInstrument is used then the instrument will be\n",
      "     |      set automatically.\n",
      "     |\n",
      "     |  play_event(self, note, channel, velocity)\n",
      "     |\n",
      "     |  set_instrument(self, channel, instr, bank=0)\n",
      "     |      Set the channel to the instrument _instr_.\n",
      "     |\n",
      "     |  sleep(self, seconds)\n",
      "     |\n",
      "     |  stop_Note(self, note, channel=1)\n",
      "     |      Stop a note on a channel.\n",
      "     |\n",
      "     |      If Note.channel is set, it will take presedence over the channel\n",
      "     |      argument given here.\n",
      "     |\n",
      "     |  stop_NoteContainer(self, nc, channel=1)\n",
      "     |      Stop playing the notes in NoteContainer nc.\n",
      "     |\n",
      "     |  stop_event(self, note, channel)\n",
      "     |\n",
      "     |  stop_everything(self)\n",
      "     |      Stop all the notes on all channels.\n",
      "     |\n",
      "     |  ----------------------------------------------------------------------\n",
      "     |  Data descriptors defined here:\n",
      "     |\n",
      "     |  __dict__\n",
      "     |      dictionary for instance variables\n",
      "     |\n",
      "     |  __weakref__\n",
      "     |      list of weak references to the object\n",
      "     |\n",
      "     |  ----------------------------------------------------------------------\n",
      "     |  Data and other attributes defined here:\n",
      "     |\n",
      "     |  MSG_CC = 2\n",
      "     |\n",
      "     |  MSG_INSTR = 3\n",
      "     |\n",
      "     |  MSG_PLAY_BAR = 9\n",
      "     |\n",
      "     |  MSG_PLAY_BARS = 10\n",
      "     |\n",
      "     |  MSG_PLAY_COMPOSITION = 13\n",
      "     |\n",
      "     |  MSG_PLAY_INT = 0\n",
      "     |\n",
      "     |  MSG_PLAY_NC = 7\n",
      "     |\n",
      "     |  MSG_PLAY_NOTE = 5\n",
      "     |\n",
      "     |  MSG_PLAY_TRACK = 11\n",
      "     |\n",
      "     |  MSG_PLAY_TRACKS = 12\n",
      "     |\n",
      "     |  MSG_SLEEP = 4\n",
      "     |\n",
      "     |  MSG_STOP_INT = 1\n",
      "     |\n",
      "     |  MSG_STOP_NC = 8\n",
      "     |\n",
      "     |  MSG_STOP_NOTE = 6\n",
      "     |\n",
      "     |  output = None\n",
      "\n",
      "FILE\n",
      "    c:\\users\\dakot\\documents\\music\\bouzouki\\.venv\\lib\\site-packages\\mingus\\midi\\sequencer.py\n",
      "\n",
      "\n"
     ]
    }
   ],
   "source": [
    "help(midi.sequencer)\n"
   ]
  },
  {
   "cell_type": "code",
   "execution_count": null,
   "id": "bc4b099d",
   "metadata": {},
   "outputs": [],
   "source": []
  }
 ],
 "metadata": {
  "kernelspec": {
   "display_name": ".venv",
   "language": "python",
   "name": "python3"
  },
  "language_info": {
   "codemirror_mode": {
    "name": "ipython",
    "version": 3
   },
   "file_extension": ".py",
   "mimetype": "text/x-python",
   "name": "python",
   "nbconvert_exporter": "python",
   "pygments_lexer": "ipython3",
   "version": "3.12.10"
  }
 },
 "nbformat": 4,
 "nbformat_minor": 5
}
